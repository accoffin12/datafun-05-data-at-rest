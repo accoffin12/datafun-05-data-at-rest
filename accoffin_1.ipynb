{
 "cells": [
  {
   "cell_type": "markdown",
   "id": "ef050ae0",
   "metadata": {},
   "source": [
    "Alexandra Coffin\n",
    "2023/ 2/ 14\n",
    "Data Analytics\n",
    "Dr. Case\n",
    "Module 5, Task 1"
   ]
  },
  {
   "cell_type": "markdown",
   "id": "7b0d2df1",
   "metadata": {},
   "source": [
    "# Chapter 9\n",
    "\n",
    "9.1 Introduction\n",
    "9.2 Files\n",
    "9.3 Text-File Processing\n",
    "9.3.1 Writing to a Text File: Introducing the with Statement\n",
    "9.3.2 Reading Data from a Text File\n",
    "9.4 Updating Text Files\n",
    "9.5 Serialization with JSON\n",
    "9.6 Focus on Security: pickle Serialization and Deserialization\n",
    "9.7 Additional Notes Regarding Files\n",
    "9.8 Handling Exceptions\n",
    "9.8.1 Division by Zero and Invalid Input\n",
    "9.8.2 try Statements\n",
    "9.8.3 Catching Multiple Exceptions in One except Clause\n",
    "9.8.4 What Exceptions Does a Function or Method Raise?\n",
    "9.8.5 What Code Should Be Placed in a try Suite?\n",
    "9.9 finally Clause\n",
    "9.10 Explicitly Raising an Exception\n",
    "9.11 (Optional) Stack Unwinding and Tracebacks\n",
    "9.12 Intro to Data Science: Working with CSV Files\n",
    "9.12.1 Python Standard Library Module csv\n",
    "9.12.2 Reading CSV Files into Pandas DataFrames\n",
    "9.12.3 Reading the Titanic Disaster Dataset\n",
    "9.12.4 Simple Data Analysis with the Titanic Disaster Dataset\n",
    "9.12.5 Passenger Age Histogram"
   ]
  },
  {
   "cell_type": "markdown",
   "id": "87f363b9",
   "metadata": {},
   "source": [
    "## Accounts example\n",
    "Following Accounts example on pages 322 - 330"
   ]
  },
  {
   "cell_type": "markdown",
   "id": "5c4e9ab5",
   "metadata": {},
   "source": [
    "### Importing modules for use:"
   ]
  },
  {
   "cell_type": "code",
   "execution_count": 1,
   "id": "b370784d",
   "metadata": {},
   "outputs": [],
   "source": [
    "import os\n",
    "import json\n",
    "import csv\n",
    "import pandas as pd"
   ]
  },
  {
   "cell_type": "code",
   "execution_count": 2,
   "id": "9c41353b",
   "metadata": {},
   "outputs": [],
   "source": [
    "with open('accounts.txt', mode='w') as f:\n",
    "    f.write('100 Jones 24.98\\n')\n",
    "    f.write('200 Doe 345.67\\n')\n",
    "    f.write('300 White 0.00\\n')\n",
    "    f.write('400 Stone -42.16\\n')\n",
    "    f.write('500 Rich 244.62\\n')"
   ]
  },
  {
   "cell_type": "code",
   "execution_count": 3,
   "id": "a2bbed9a",
   "metadata": {},
   "outputs": [
    {
     "name": "stdout",
     "output_type": "stream",
     "text": [
      "100 Jones 24.98\n"
     ]
    }
   ],
   "source": [
    "print('100 Jones 24.98')"
   ]
  },
  {
   "cell_type": "code",
   "execution_count": 4,
   "id": "b8d9a7ce",
   "metadata": {},
   "outputs": [
    {
     "name": "stdout",
     "output_type": "stream",
     "text": [
      "Account   Name         Balance\n",
      "100       Jones          24.98\n",
      "200       Doe           345.67\n",
      "300       White           0.00\n",
      "400       Stone         -42.16\n",
      "500       Rich          244.62\n"
     ]
    }
   ],
   "source": [
    "with open('accounts.txt', mode='r') as f:\n",
    "    print(f'{\"Account\":<10}{\"Name\":<10}{\"Balance\":>10}')\n",
    "    for record in f:\n",
    "        account, name, balance = record.split()\n",
    "        print(f'{account:<10}{name:<10}{balance:>10}')"
   ]
  },
  {
   "cell_type": "markdown",
   "id": "d441c65f",
   "metadata": {},
   "source": [
    "## Updating Account Information:\n",
    "The statement unpacks each record into account, name and balance. We write the record containing the new line to a temp_file, if the account number matches, otheriwse we will write a new record contianing the information entirly. It also allows us to create a new temp file and delete the previous and then update the new record by changing the temp file."
   ]
  },
  {
   "cell_type": "code",
   "execution_count": 5,
   "id": "5c8de785",
   "metadata": {},
   "outputs": [],
   "source": [
    "accounts = open('accounts.txt', 'r')\n",
    "temp_file = open('temp_file.txt', 'w')\n",
    "with accounts, temp_file:\n",
    "    for record in accounts: \n",
    "        account, name, balance = record.split()\n",
    "        if account != '300':\n",
    "            temp_file.write(record)\n",
    "        else:\n",
    "            new_record = ' '.join([account, 'Williams', balance])\n",
    "            temp_file.write(new_record+'\\n')\n",
    "    "
   ]
  },
  {
   "cell_type": "code",
   "execution_count": 6,
   "id": "1c35fae5",
   "metadata": {},
   "outputs": [],
   "source": [
    "os.remove('accounts.txt')"
   ]
  },
  {
   "cell_type": "code",
   "execution_count": 7,
   "id": "49eac4cd",
   "metadata": {},
   "outputs": [],
   "source": [
    "os.rename('temp_file.txt', 'accounts.txt')"
   ]
  },
  {
   "cell_type": "markdown",
   "id": "4aabc1e7",
   "metadata": {},
   "source": [
    "## Page 322 Text File Processing\n",
    "Objective: writing to a text file and being able to access information to perform assorted tasks.\n",
    "Create a grades.txt file and write to it the following three records consisting of student IDs, last names and letter grades."
   ]
  },
  {
   "cell_type": "code",
   "execution_count": 8,
   "id": "2bfc9677",
   "metadata": {},
   "outputs": [],
   "source": [
    "with open('grades.txt', mode='w') as grades:\n",
    "    grades.write('1 Red A\\n')\n",
    "    grades.write('2 Green B\\n')\n",
    "    grades.write('3 White A\\n')"
   ]
  },
  {
   "cell_type": "markdown",
   "id": "2a01163a",
   "metadata": {},
   "source": [
    "## Page 329 JSON Example\n",
    "Creating a JSON file to create a directory. JSON files are smaller and faster, based on JavaScript"
   ]
  },
  {
   "cell_type": "code",
   "execution_count": 9,
   "id": "1044d24e",
   "metadata": {},
   "outputs": [],
   "source": [
    "grades_dict = {'gradebook':\n",
    "              [{'student_id': 1, 'name': 'Red', 'grade': 'A'},\n",
    "              {'student_id': 2, 'name': 'Green', 'grade': 'B'},\n",
    "              {'student_id': 3, 'name': 'White', 'grade': 'A'}]}"
   ]
  },
  {
   "cell_type": "code",
   "execution_count": 10,
   "id": "2eea7c99",
   "metadata": {},
   "outputs": [],
   "source": [
    "with open('grades.json', 'w') as grades:\n",
    "    json.dump(grades_dict, grades)"
   ]
  },
  {
   "cell_type": "code",
   "execution_count": 11,
   "id": "7c0097cc",
   "metadata": {},
   "outputs": [
    {
     "name": "stdout",
     "output_type": "stream",
     "text": [
      "{\n",
      "    \"gradebook\": [\n",
      "        {\n",
      "            \"student_id\": 1,\n",
      "            \"name\": \"Red\",\n",
      "            \"grade\": \"A\"\n",
      "        },\n",
      "        {\n",
      "            \"student_id\": 2,\n",
      "            \"name\": \"Green\",\n",
      "            \"grade\": \"B\"\n",
      "        },\n",
      "        {\n",
      "            \"student_id\": 3,\n",
      "            \"name\": \"White\",\n",
      "            \"grade\": \"A\"\n",
      "        }\n",
      "    ]\n",
      "}\n"
     ]
    }
   ],
   "source": [
    "with open('grades.json', 'r') as grades:\n",
    "    print(json.dumps(json.load(grades), indent=4))\n",
    "    {\n",
    "        \"gradebook\": [\n",
    "            {\n",
    "            \"student_id\": 1,\n",
    "            \"name\": \"Red\",\n",
    "            \"grade\": \"A\"\n",
    "            },\n",
    "            {\n",
    "                \"student_id\": 2,\n",
    "                \"name\": \"Green\",\n",
    "                \"grade\": \"B\"\n",
    "            },\n",
    "            {\n",
    "                \"stendent_id\": 3,\n",
    "                \"name\": \"White\",\n",
    "                \"grade\": \"A\"\n",
    "            }\n",
    "            \n",
    "        ]\n",
    "    }"
   ]
  },
  {
   "cell_type": "markdown",
   "id": "7cdcf68e",
   "metadata": {},
   "source": [
    "## Page 355 Example"
   ]
  },
  {
   "cell_type": "code",
   "execution_count": 12,
   "id": "4a97ddbf",
   "metadata": {},
   "outputs": [],
   "source": [
    "def try_it(value):\n",
    "    try:\n",
    "        x = int(value)\n",
    "    except ValueError:\n",
    "        print(f'{value} could not be converted to an integer')\n",
    "    else:\n",
    "        print(f'int({value}) is {x}')"
   ]
  },
  {
   "cell_type": "code",
   "execution_count": 13,
   "id": "0dbe7e12",
   "metadata": {},
   "outputs": [
    {
     "name": "stdout",
     "output_type": "stream",
     "text": [
      "int(10.7) is 10\n"
     ]
    }
   ],
   "source": [
    "try_it(10.7)"
   ]
  },
  {
   "cell_type": "code",
   "execution_count": 14,
   "id": "08d47f91",
   "metadata": {},
   "outputs": [
    {
     "name": "stdout",
     "output_type": "stream",
     "text": [
      "Python could not be converted to an integer\n"
     ]
    }
   ],
   "source": [
    "try_it('Python')"
   ]
  },
  {
   "cell_type": "markdown",
   "id": "e3779e34",
   "metadata": {},
   "source": [
    "##  9.9 Finally Clause:\n",
    "A clause gauranteed to execute, regardless of whether its try suite executes sucessfully or an exception occurs. In Python we tend to use the with statement for this purpose, and place variations of \"clean up\" code in a finally suite. If the conrotl successfully reaches the end of the try suite, the except clause is skipped. The else clasue executes and finally clause displays a message showing it always executes."
   ]
  },
  {
   "cell_type": "code",
   "execution_count": 15,
   "id": "4133747d",
   "metadata": {},
   "outputs": [
    {
     "name": "stdout",
     "output_type": "stream",
     "text": [
      "try suite with no exceptions raised\n",
      "else executes because no exceptions in the try suite\n",
      "finally always executes\n"
     ]
    }
   ],
   "source": [
    "try:\n",
    "    print('try suite with no exceptions raised')\n",
    "except:\n",
    "    print('this will not execute')\n",
    "else:\n",
    "    print('else executes because no exceptions in the try suite')\n",
    "finally:\n",
    "    print('finally always executes')"
   ]
  },
  {
   "cell_type": "code",
   "execution_count": 16,
   "id": "ba90996e",
   "metadata": {},
   "outputs": [
    {
     "name": "stdout",
     "output_type": "stream",
     "text": [
      "try suite that raises an exception\n",
      "a ValueError occurred\n",
      "finally always executes\n"
     ]
    }
   ],
   "source": [
    "try:\n",
    "    print('try suite that raises an exception')\n",
    "    int('hello')\n",
    "    print('this will not execute')\n",
    "except ValueError:\n",
    "    print('a ValueError occurred')\n",
    "else:\n",
    "    print('else will not execute because an exception occurred')\n",
    "finally:\n",
    "    print('finally always executes')"
   ]
  },
  {
   "cell_type": "code",
   "execution_count": 17,
   "id": "4e2f113d",
   "metadata": {},
   "outputs": [
    {
     "data": {
      "text/plain": [
       "<_io.TextIOWrapper name='grades.txt' mode='r' encoding='cp1252'>"
      ]
     },
     "execution_count": 17,
     "metadata": {},
     "output_type": "execute_result"
    }
   ],
   "source": [
    "open('grades.txt')"
   ]
  },
  {
   "cell_type": "code",
   "execution_count": 18,
   "id": "d2eaa2c6",
   "metadata": {},
   "outputs": [
    {
     "name": "stdout",
     "output_type": "stream",
     "text": [
      "ID Name   Grade\n",
      "1 Red    A\n",
      "2 Green  B\n",
      "3 White  A\n"
     ]
    }
   ],
   "source": [
    "try:\n",
    "    with open('grades.txt', 'r') as accounts:\n",
    "        print(f'{\"ID\":<3}{\"Name\":<7}{\"Grade\"}')\n",
    "        for record in accounts:\n",
    "              student_id, name, grade = record.split()\n",
    "              print(f'{student_id:<2}{name:<7}{grade}')\n",
    "except FileNotFoundError:\n",
    "              print('The file name you specified does not exist')\n",
    "              "
   ]
  },
  {
   "cell_type": "markdown",
   "id": "c3d2f738",
   "metadata": {},
   "source": [
    "## Self Check on 338"
   ]
  },
  {
   "cell_type": "code",
   "execution_count": 19,
   "id": "8aac9eaf",
   "metadata": {},
   "outputs": [],
   "source": [
    "def try_it(value):\n",
    "    try:\n",
    "        x = int(value)\n",
    "    except ValueError:\n",
    "        print(f'{value} could not be converted to an integer')\n",
    "    else:\n",
    "        print(f'int({value}) is {x}')\n",
    "    finally:\n",
    "        print('finally executed')"
   ]
  },
  {
   "cell_type": "code",
   "execution_count": 20,
   "id": "0ab0a5e0",
   "metadata": {},
   "outputs": [
    {
     "ename": "NameError",
     "evalue": "name 'try_in' is not defined",
     "output_type": "error",
     "traceback": [
      "\u001b[1;31m---------------------------------------------------------------------------\u001b[0m",
      "\u001b[1;31mNameError\u001b[0m                                 Traceback (most recent call last)",
      "\u001b[1;32m~\\AppData\\Local\\Temp\\ipykernel_6844\\954014266.py\u001b[0m in \u001b[0;36m<module>\u001b[1;34m\u001b[0m\n\u001b[1;32m----> 1\u001b[1;33m \u001b[0mtry_in\u001b[0m\u001b[1;33m(\u001b[0m\u001b[1;36m12.7\u001b[0m\u001b[1;33m)\u001b[0m\u001b[1;33m\u001b[0m\u001b[1;33m\u001b[0m\u001b[0m\n\u001b[0m",
      "\u001b[1;31mNameError\u001b[0m: name 'try_in' is not defined"
     ]
    }
   ],
   "source": [
    "try_in(12.7)"
   ]
  },
  {
   "cell_type": "code",
   "execution_count": 21,
   "id": "72637e17",
   "metadata": {},
   "outputs": [
    {
     "name": "stdout",
     "output_type": "stream",
     "text": [
      "Python could not be converted to an integer\n",
      "finally executed\n"
     ]
    }
   ],
   "source": [
    "try_it('Python')"
   ]
  },
  {
   "cell_type": "markdown",
   "id": "74aeafe2",
   "metadata": {},
   "source": [
    "## 9.11 Unwinding Stacks\n",
    "Each exception object stores information indicating the series of function calls that led to the exception. The traceback shows the type of eception that occured, followed by the complete function call stack that had lead to the raise point. Stack's bottom call is listed first and the top is last, so the interpreter displays text as a reminder."
   ]
  },
  {
   "cell_type": "code",
   "execution_count": 22,
   "id": "edc986d3",
   "metadata": {},
   "outputs": [],
   "source": [
    "def function1():\n",
    "    function2()"
   ]
  },
  {
   "cell_type": "code",
   "execution_count": 23,
   "id": "2b2f57ed",
   "metadata": {
    "scrolled": true
   },
   "outputs": [],
   "source": [
    "def function2():\n",
    "    raise Exception('An exception occured')"
   ]
  },
  {
   "cell_type": "code",
   "execution_count": 24,
   "id": "9a5d5dee",
   "metadata": {},
   "outputs": [
    {
     "ename": "Exception",
     "evalue": "An exception occured",
     "output_type": "error",
     "traceback": [
      "\u001b[1;31m---------------------------------------------------------------------------\u001b[0m",
      "\u001b[1;31mException\u001b[0m                                 Traceback (most recent call last)",
      "\u001b[1;32m~\\AppData\\Local\\Temp\\ipykernel_6844\\2505403607.py\u001b[0m in \u001b[0;36m<module>\u001b[1;34m\u001b[0m\n\u001b[1;32m----> 1\u001b[1;33m \u001b[0mfunction1\u001b[0m\u001b[1;33m(\u001b[0m\u001b[1;33m)\u001b[0m\u001b[1;33m\u001b[0m\u001b[1;33m\u001b[0m\u001b[0m\n\u001b[0m",
      "\u001b[1;32m~\\AppData\\Local\\Temp\\ipykernel_6844\\4005091792.py\u001b[0m in \u001b[0;36mfunction1\u001b[1;34m()\u001b[0m\n\u001b[0;32m      1\u001b[0m \u001b[1;32mdef\u001b[0m \u001b[0mfunction1\u001b[0m\u001b[1;33m(\u001b[0m\u001b[1;33m)\u001b[0m\u001b[1;33m:\u001b[0m\u001b[1;33m\u001b[0m\u001b[1;33m\u001b[0m\u001b[0m\n\u001b[1;32m----> 2\u001b[1;33m     \u001b[0mfunction2\u001b[0m\u001b[1;33m(\u001b[0m\u001b[1;33m)\u001b[0m\u001b[1;33m\u001b[0m\u001b[1;33m\u001b[0m\u001b[0m\n\u001b[0m",
      "\u001b[1;32m~\\AppData\\Local\\Temp\\ipykernel_6844\\578772953.py\u001b[0m in \u001b[0;36mfunction2\u001b[1;34m()\u001b[0m\n\u001b[0;32m      1\u001b[0m \u001b[1;32mdef\u001b[0m \u001b[0mfunction2\u001b[0m\u001b[1;33m(\u001b[0m\u001b[1;33m)\u001b[0m\u001b[1;33m:\u001b[0m\u001b[1;33m\u001b[0m\u001b[1;33m\u001b[0m\u001b[0m\n\u001b[1;32m----> 2\u001b[1;33m     \u001b[1;32mraise\u001b[0m \u001b[0mException\u001b[0m\u001b[1;33m(\u001b[0m\u001b[1;34m'An exception occured'\u001b[0m\u001b[1;33m)\u001b[0m\u001b[1;33m\u001b[0m\u001b[1;33m\u001b[0m\u001b[0m\n\u001b[0m",
      "\u001b[1;31mException\u001b[0m: An exception occured"
     ]
    }
   ],
   "source": [
    "function1()"
   ]
  },
  {
   "cell_type": "markdown",
   "id": "ff215b7e",
   "metadata": {},
   "source": [
    "# 9.12Working with a CSV File:\n",
    "CSV module provides functions for working with CSV files. There are other Python librabries that have buildin CSV as well. It is possible to write to a CSV file as well as reading and manipulating data by usuing Pandas.\n",
    "\n",
    "CSV module's reader function returns an object that reasds CSV-format data from the specified file object. Returns of each recors list values which unpack into variables account, name and balance then displays them. It is imparative that we keep track as commas as this can create a CSV record with more fields than the origianl, creating an error as the program reads a line before the errored line."
   ]
  },
  {
   "cell_type": "code",
   "execution_count": 25,
   "id": "41005865",
   "metadata": {},
   "outputs": [],
   "source": [
    "with open('accounts.csv', mode='w', newline='') as accounts:\n",
    "    writer = csv.writer(accounts)\n",
    "    writer.writerow([100, 'Jones', 24.98])\n",
    "    writer.writerow([200, 'Doe', 345.67])\n",
    "    writer.writerow([300, 'White', 0.00])\n",
    "    writer.writerow([400, 'Stone', -42.16])\n",
    "    writer.writerow([500, 'Rich', 224.62])"
   ]
  },
  {
   "cell_type": "code",
   "execution_count": 26,
   "id": "9d28c92a",
   "metadata": {},
   "outputs": [
    {
     "data": {
      "text/plain": [
       "[100, 'Jones, Sue', 24.98]"
      ]
     },
     "execution_count": 26,
     "metadata": {},
     "output_type": "execute_result"
    }
   ],
   "source": [
    "[100, 'Jones, Sue', 24.98]"
   ]
  },
  {
   "cell_type": "code",
   "execution_count": 27,
   "id": "716ce8d0",
   "metadata": {},
   "outputs": [
    {
     "name": "stdout",
     "output_type": "stream",
     "text": [
      "Account   Name         Balance\n",
      "100       Jones          24.98\n",
      "200       Doe           345.67\n",
      "300       White            0.0\n",
      "400       Stone         -42.16\n",
      "500       Rich          224.62\n"
     ]
    }
   ],
   "source": [
    "with open('accounts.csv', 'r', newline='') as accounts:\n",
    "    print(f'{\"Account\":<10}{\"Name\":<10}{\"Balance\":>10}')\n",
    "    reader = csv.reader(accounts)\n",
    "    for record in reader:\n",
    "        account, name, balance = record\n",
    "        print(f'{account:<10}{name:<10}{balance:>10}')"
   ]
  },
  {
   "cell_type": "markdown",
   "id": "e049e7bd",
   "metadata": {},
   "source": [
    "## 9.12 Pandas and DataFrames:\n",
    "This examples utilizes previously created accounts.csv as a way to examine the creation of dataframes using these files."
   ]
  },
  {
   "cell_type": "code",
   "execution_count": 28,
   "id": "bfb90268",
   "metadata": {},
   "outputs": [],
   "source": [
    "df = pd.read_csv('accounts.csv',\n",
    "                names=['account', 'name', 'balance'])"
   ]
  },
  {
   "cell_type": "code",
   "execution_count": 29,
   "id": "7885f947",
   "metadata": {},
   "outputs": [
    {
     "data": {
      "text/html": [
       "<div>\n",
       "<style scoped>\n",
       "    .dataframe tbody tr th:only-of-type {\n",
       "        vertical-align: middle;\n",
       "    }\n",
       "\n",
       "    .dataframe tbody tr th {\n",
       "        vertical-align: top;\n",
       "    }\n",
       "\n",
       "    .dataframe thead th {\n",
       "        text-align: right;\n",
       "    }\n",
       "</style>\n",
       "<table border=\"1\" class=\"dataframe\">\n",
       "  <thead>\n",
       "    <tr style=\"text-align: right;\">\n",
       "      <th></th>\n",
       "      <th>account</th>\n",
       "      <th>name</th>\n",
       "      <th>balance</th>\n",
       "    </tr>\n",
       "  </thead>\n",
       "  <tbody>\n",
       "    <tr>\n",
       "      <th>0</th>\n",
       "      <td>100</td>\n",
       "      <td>Jones</td>\n",
       "      <td>24.98</td>\n",
       "    </tr>\n",
       "    <tr>\n",
       "      <th>1</th>\n",
       "      <td>200</td>\n",
       "      <td>Doe</td>\n",
       "      <td>345.67</td>\n",
       "    </tr>\n",
       "    <tr>\n",
       "      <th>2</th>\n",
       "      <td>300</td>\n",
       "      <td>White</td>\n",
       "      <td>0.00</td>\n",
       "    </tr>\n",
       "    <tr>\n",
       "      <th>3</th>\n",
       "      <td>400</td>\n",
       "      <td>Stone</td>\n",
       "      <td>-42.16</td>\n",
       "    </tr>\n",
       "    <tr>\n",
       "      <th>4</th>\n",
       "      <td>500</td>\n",
       "      <td>Rich</td>\n",
       "      <td>224.62</td>\n",
       "    </tr>\n",
       "  </tbody>\n",
       "</table>\n",
       "</div>"
      ],
      "text/plain": [
       "   account   name  balance\n",
       "0      100  Jones    24.98\n",
       "1      200    Doe   345.67\n",
       "2      300  White     0.00\n",
       "3      400  Stone   -42.16\n",
       "4      500   Rich   224.62"
      ]
     },
     "execution_count": 29,
     "metadata": {},
     "output_type": "execute_result"
    }
   ],
   "source": [
    "df"
   ]
  }
 ],
 "metadata": {
  "kernelspec": {
   "display_name": "Python 3 (ipykernel)",
   "language": "python",
   "name": "python3"
  },
  "language_info": {
   "codemirror_mode": {
    "name": "ipython",
    "version": 3
   },
   "file_extension": ".py",
   "mimetype": "text/x-python",
   "name": "python",
   "nbconvert_exporter": "python",
   "pygments_lexer": "ipython3",
   "version": "3.9.13"
  },
  "vscode": {
   "interpreter": {
    "hash": "8efa02d946cf0096da1b3d61f9e611017bc8139885ae3cd83220fa51d11b1f2a"
   }
  }
 },
 "nbformat": 4,
 "nbformat_minor": 5
}
